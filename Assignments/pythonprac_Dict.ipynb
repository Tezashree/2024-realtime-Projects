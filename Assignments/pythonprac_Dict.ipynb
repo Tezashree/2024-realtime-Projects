{
  "nbformat": 4,
  "nbformat_minor": 0,
  "metadata": {
    "colab": {
      "provenance": [],
      "authorship_tag": "ABX9TyMS2dFDnAPfGYb0/Xh6m8wF",
      "include_colab_link": true
    },
    "kernelspec": {
      "name": "python3",
      "display_name": "Python 3"
    },
    "language_info": {
      "name": "python"
    }
  },
  "cells": [
    {
      "cell_type": "markdown",
      "metadata": {
        "id": "view-in-github",
        "colab_type": "text"
      },
      "source": [
        "<a href=\"https://colab.research.google.com/github/Tezashree/DataScienceBootcamp/blob/main/Assignments/pythonprac_Dict.ipynb\" target=\"_parent\"><img src=\"https://colab.research.google.com/assets/colab-badge.svg\" alt=\"Open In Colab\"/></a>"
      ]
    },
    {
      "cell_type": "code",
      "execution_count": null,
      "metadata": {
        "colab": {
          "base_uri": "https://localhost:8080/"
        },
        "id": "MQKAzNY-TEqx",
        "outputId": "4dced8bc-bac8-4f71-d266-71f23b17ebe1"
      },
      "outputs": [
        {
          "output_type": "stream",
          "name": "stdout",
          "text": [
            "[(2, 7), (2, 7), (3, 6)]\n"
          ]
        }
      ],
      "source": [
        "def two_sum_with_duplicates(nums, target):\n",
        "    num_indices = {}\n",
        "    result = []\n",
        "    for i, num in enumerate(nums):\n",
        "        complement = target - num\n",
        "        if complement in num_indices:\n",
        "            result.append((complement, num))\n",
        "        num_indices[num] = i\n",
        "\n",
        "    return result\n",
        "nums = [2, 7, 11, 15, 7, 4, 3, 6]\n",
        "target = 9\n",
        "print(two_sum_with_duplicates(nums, target))"
      ]
    },
    {
      "cell_type": "code",
      "source": [
        "def topKFrequent(nums, k):\n",
        "    frequency_map = {}\n",
        "    for num in nums:\n",
        "        if num in frequency_map:\n",
        "            frequency_map[num] += 1\n",
        "        else:\n",
        "            frequency_map[num] = 1\n",
        "\n",
        "    sorted_freq = sorted(frequency_map.items(), key=lambda x: x[1], reverse=True)\n",
        "    result = [x[0] for x in sorted_freq[:k]]\n",
        "    return result\n",
        "\n",
        "nums = [1, 1, 1, 2, 2, 3, 4, 4, 5, 5, 5, 5]\n",
        "k = 3\n",
        "print(topKFrequent(nums, k))\n"
      ],
      "metadata": {
        "colab": {
          "base_uri": "https://localhost:8080/"
        },
        "id": "f-UHWbnDUgtS",
        "outputId": "e44d4b9f-3ee0-435a-8b20-c39c30d774c3"
      },
      "execution_count": null,
      "outputs": [
        {
          "output_type": "stream",
          "name": "stdout",
          "text": [
            "[5, 1, 2]\n"
          ]
        }
      ]
    },
    {
      "cell_type": "code",
      "source": [
        "def group_anagrams(strs):\n",
        "    grouped_anagrams = {}\n",
        "    for word in strs:\n",
        "        sorted_word = ''.join(sorted(word))\n",
        "        if sorted_word in grouped_anagrams:\n",
        "            grouped_anagrams[sorted_word].append(word)\n",
        "        else:\n",
        "            grouped_anagrams[sorted_word] = [word]\n",
        "    return list(grouped_anagrams.values())\n",
        "\n",
        "input_list = [\"listen\", \"silent\", \"evil\", \"vile\", \"debit card\", \"bad credit\"]\n",
        "print(group_anagrams(input_list))\n"
      ],
      "metadata": {
        "colab": {
          "base_uri": "https://localhost:8080/"
        },
        "id": "q5mUbHh3VtWH",
        "outputId": "02244612-468e-40d4-eaa0-e6108535eedc"
      },
      "execution_count": null,
      "outputs": [
        {
          "output_type": "stream",
          "name": "stdout",
          "text": [
            "[['listen', 'silent'], ['evil', 'vile'], ['debit card', 'bad credit']]\n"
          ]
        }
      ]
    }
  ]
}