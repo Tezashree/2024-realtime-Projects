{
  "nbformat": 4,
  "nbformat_minor": 0,
  "metadata": {
    "colab": {
      "provenance": [],
      "authorship_tag": "ABX9TyPL2N0r6KNB8NIG3SA4CPJj",
      "include_colab_link": true
    },
    "kernelspec": {
      "name": "python3",
      "display_name": "Python 3"
    },
    "language_info": {
      "name": "python"
    }
  },
  "cells": [
    {
      "cell_type": "markdown",
      "metadata": {
        "id": "view-in-github",
        "colab_type": "text"
      },
      "source": [
        "<a href=\"https://colab.research.google.com/github/Tezashree/DataScienceBootcamp/blob/main/Assignment-DSBootcamp/StudentManagementSYS.ipynb\" target=\"_parent\"><img src=\"https://colab.research.google.com/assets/colab-badge.svg\" alt=\"Open In Colab\"/></a>"
      ]
    },
    {
      "cell_type": "code",
      "execution_count": null,
      "metadata": {
        "colab": {
          "base_uri": "https://localhost:8080/"
        },
        "id": "U5uGVNTRfoTH",
        "outputId": "9250120d-c814-43ce-d06b-75f08cc23736"
      },
      "outputs": [
        {
          "output_type": "stream",
          "name": "stdout",
          "text": [
            "All Students:\n",
            "Name: Aastha, Roll Number: 101, Age: 20, Marks: 85\n",
            "Name: Rahjon, Roll Number: 102, Age: 21, Marks: 90\n",
            "Name: Rhonin, Roll Number: 103, Age: 22, Marks: 95\n",
            "Name: Shruti, Roll Number: 104, Age: 24, Marks: 80\n",
            "Name: Ranju, Roll Number: 105, Age: 25, Marks: 75\n",
            "\n",
            "Search results for 'Aastha':\n",
            "Name: Aastha, Roll Number: 101, Age: 20, Marks: 85\n",
            "\n",
            "Updated Student Record:\n",
            "Name: Aastha, Roll Number: 101, Age: 20, Marks: 85\n",
            "Name: Rahjon, Roll Number: 102, Age: 22, Marks: 95\n",
            "Name: Rhonin, Roll Number: 103, Age: 22, Marks: 95\n",
            "Name: Shruti, Roll Number: 104, Age: 24, Marks: 80\n",
            "Name: Ranju, Roll Number: 105, Age: 25, Marks: 75\n",
            "\n",
            "After Removing a Student:\n",
            "Name: Rahjon, Roll Number: 102, Age: 22, Marks: 95\n",
            "Name: Rhonin, Roll Number: 103, Age: 22, Marks: 95\n",
            "Name: Shruti, Roll Number: 104, Age: 24, Marks: 80\n",
            "Name: Ranju, Roll Number: 105, Age: 25, Marks: 75\n"
          ]
        }
      ],
      "source": [
        "class Student:\n",
        "    def __init__(self, name, roll_number, age, marks):\n",
        "        self.name = name\n",
        "        self.roll_number = roll_number\n",
        "        self.age = age\n",
        "        self.marks = marks\n",
        "\n",
        "    def __str__(self):\n",
        "        return f\"Name: {self.name}, Roll Number: {self.roll_number}, Age: {self.age}, Marks: {self.marks}\"\n",
        "\n",
        "\n",
        "class StudentManager:\n",
        "    def __init__(self):\n",
        "        self.students = []\n",
        "\n",
        "    def add_student(self, name, roll_number, age, marks):\n",
        "        student = Student(name, roll_number, age, marks)\n",
        "        self.students.append(student)\n",
        "\n",
        "    def remove_student(self, roll_number):\n",
        "        for student in self.students:\n",
        "            if student.roll_number == roll_number:\n",
        "                self.students.remove(student)\n",
        "                break\n",
        "\n",
        "    def search_student(self, query):\n",
        "        result = []\n",
        "        for student in self.students:\n",
        "            if query.lower() in student.name.lower() or query.lower() in str(student.roll_number):\n",
        "                result.append(student)\n",
        "        return result\n",
        "\n",
        "    def update_student(self, roll_number, **kwargs):\n",
        "        for student in self.students:\n",
        "            if student.roll_number == roll_number:\n",
        "                for key, value in kwargs.items():\n",
        "                    setattr(student, key, value)\n",
        "                break\n",
        "\n",
        "\n",
        "manager = StudentManager()\n",
        "\n",
        "# Adding students\n",
        "manager.add_student(\"Aastha\", 101, 20, 85)\n",
        "manager.add_student(\"Rahjon\", 102, 21, 90)\n",
        "manager.add_student(\"Rhonin\", 103, 22, 95)\n",
        "manager.add_student(\"Shruti\", 104, 24, 80)\n",
        "manager.add_student(\"Ranju\", 105, 25, 75)\n",
        "\n",
        "# Displaying all students\n",
        "print(\"All Students:\")\n",
        "for student in manager.students:\n",
        "    print(student)\n",
        "\n",
        "# Searching for a student\n",
        "query = \"Aastha\"\n",
        "results = manager.search_student(query)\n",
        "print(f\"\\nSearch results for '{query}':\")\n",
        "for result in results:\n",
        "    print(result)\n",
        "\n",
        "# Updating a student record\n",
        "manager.update_student(102, age=22, marks=95)\n",
        "print(\"\\nUpdated Student Record:\")\n",
        "for student in manager.students:\n",
        "    print(student)\n",
        "\n",
        "# Removing a student\n",
        "manager.remove_student(101)\n",
        "print(\"\\nAfter Removing a Student:\")\n",
        "for student in manager.students:\n",
        "    print(student)\n"
      ]
    }
  ]
}