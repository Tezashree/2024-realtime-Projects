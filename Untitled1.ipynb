{
  "nbformat": 4,
  "nbformat_minor": 0,
  "metadata": {
    "colab": {
      "provenance": [],
      "authorship_tag": "ABX9TyN6Xt1SSo9mOGMtLWWZ6LaI",
      "include_colab_link": true
    },
    "kernelspec": {
      "name": "python3",
      "display_name": "Python 3"
    },
    "language_info": {
      "name": "python"
    }
  },
  "cells": [
    {
      "cell_type": "markdown",
      "metadata": {
        "id": "view-in-github",
        "colab_type": "text"
      },
      "source": [
        "<a href=\"https://colab.research.google.com/github/Tezashree/2024-realtime-Projects/blob/main/Untitled1.ipynb\" target=\"_parent\"><img src=\"https://colab.research.google.com/assets/colab-badge.svg\" alt=\"Open In Colab\"/></a>"
      ]
    },
    {
      "cell_type": "code",
      "execution_count": 3,
      "metadata": {
        "id": "QwKOb7yvUrqO"
      },
      "outputs": [],
      "source": [
        "class Book:\n",
        "  def __init__(self, title, author, genre):\n",
        "    self.title = title\n",
        "    self.author = author\n",
        "    self.genre = genre\n",
        "    self.is_available = True\n",
        "\n",
        "  def __str__(self):\n",
        "    return f\"{self.title} by {self.author} ({self.genre}) - Available: {self.is_available}\""
      ]
    },
    {
      "cell_type": "code",
      "source": [
        "class Library:\n",
        "  def __init__(self):\n",
        "    self.books = []\n",
        "\n",
        "  def add_book(self, book):\n",
        "    self.books.append(book)\n",
        "\n",
        "  def remove_book(self,title):\n",
        "    for book in self.books:\n",
        "      if book.title == title:\n",
        "       self.books.remove(book)\n",
        "      break\n",
        "\n",
        "  def search_book(self, title=None, author=None, genre=None):\n",
        "    results = []\n",
        "    for book in self.books:\n",
        "      if (not title or book.title.lower() == title.lower()) and \\\n",
        "         (not author or book.author.lower() == author.lower()) and \\\n",
        "         (not genre or book.genre.lower() == genre.lower()):\n",
        "         results.append(book)\n",
        "    return results\n",
        "\n",
        "  def borrow_books(self,title,user):\n",
        "    for book in self.books:\n",
        "      if book.title.lower() ==title.lower() and book.is_available:\n",
        "         book.is_available = False\n",
        "         user.borrowed_books.append(book)\n",
        "         return True\n",
        "    return False\n",
        "\n",
        "  def return_book(self, title, user):\n",
        "        for book in user.borrowed_books:\n",
        "            if book.title.lower() == title.lower():\n",
        "                book.is_available = True\n",
        "                user.borrowed_books.remove(book)\n",
        "                return True\n",
        "        return False"
      ],
      "metadata": {
        "id": "zS4YdCIWVh5D"
      },
      "execution_count": 21,
      "outputs": []
    },
    {
      "cell_type": "code",
      "source": [
        "class User:\n",
        "  def __init__(self, name):\n",
        "    self.name = name\n",
        "    self.borrowed_books = []\n",
        "\n",
        "  def __str__(self):\n",
        "    borrowed_books_str = \"\"\n",
        "    for book in self.borrowed_books:\n",
        "        borrowed_books_str += f\"- {book}\\n\"\n",
        "\n",
        "    return f\"User: {self.name}\\nBorrowed Books:\\n{borrowed_books_str}\"\n",
        "\n",
        ""
      ],
      "metadata": {
        "id": "AYy4fUKmY9UZ"
      },
      "execution_count": 22,
      "outputs": []
    },
    {
      "cell_type": "code",
      "source": [
        "library = Library()\n",
        "library.add_book(Book(\"Pride and Prejudice\", \"Jane Austen\", \" Romance Fiction\"))\n",
        "library.add_book(Book(\"1984\", \"George Orwell\", \"Dystopian Fiction\"))\n",
        "library.add_book(Book(\"The White Tiger\", \"Aravind Adiga\", \"Satirical Fiction\"))\n",
        "\n",
        "user =User(\"Aastha\")\n",
        "\n",
        "print(\"Welcome to the Library Management System\")\n",
        "print(\"\\nMenu:\")\n",
        "print(\"1. Search for a book\")\n",
        "print(\"2. Borrow a book\")\n",
        "print(\"3. Return a book\")\n",
        "print(\"4. Exit\")"
      ],
      "metadata": {
        "colab": {
          "base_uri": "https://localhost:8080/"
        },
        "id": "_a7Upry1dYLx",
        "outputId": "86c4f766-8d35-463d-c2d2-6800695ef52a"
      },
      "execution_count": 28,
      "outputs": [
        {
          "output_type": "stream",
          "name": "stdout",
          "text": [
            "Welcome to the Library Management System\n",
            "\n",
            "Menu:\n",
            "1. Search for a book\n",
            "2. Borrow a book\n",
            "3. Return a book\n",
            "4. Exit\n"
          ]
        }
      ]
    }
  ]
}