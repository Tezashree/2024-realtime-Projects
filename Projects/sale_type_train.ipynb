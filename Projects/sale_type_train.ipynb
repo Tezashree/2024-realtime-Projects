{
  "nbformat": 4,
  "nbformat_minor": 0,
  "metadata": {
    "colab": {
      "provenance": [],
      "authorship_tag": "ABX9TyOigadzZ2UEAdFncuuQ9/GR",
      "include_colab_link": true
    },
    "kernelspec": {
      "name": "python3",
      "display_name": "Python 3"
    },
    "language_info": {
      "name": "python"
    }
  },
  "cells": [
    {
      "cell_type": "markdown",
      "metadata": {
        "id": "view-in-github",
        "colab_type": "text"
      },
      "source": [
        "<a href=\"https://colab.research.google.com/github/Tezashree/DataScienceBootcamp/blob/main/Projects/sale_type_train.ipynb\" target=\"_parent\"><img src=\"https://colab.research.google.com/assets/colab-badge.svg\" alt=\"Open In Colab\"/></a>"
      ]
    },
    {
      "cell_type": "code",
      "source": [
        "import pandas as pd\n",
        "from sklearn.model_selection import train_test_split\n",
        "from sklearn.preprocessing import OneHotEncoder\n",
        "from sklearn.neighbors import KNeighborsClassifier\n",
        "from sklearn.tree import DecisionTreeClassifier\n",
        "from sklearn.ensemble import RandomForestClassifier\n",
        "from sklearn.metrics import accuracy_score\n",
        "\n",
        "# Load data\n",
        "data = pd.read_csv(\"sale_type_train.csv\")\n",
        "\n",
        "# Drop specified columns\n",
        "columns_to_drop = [\"Alley\", \"PoolQC\", \"Fence\", \"MiscFeature\"]\n",
        "data = data.drop(columns=columns_to_drop)\n",
        "\n",
        "# Fill NaN values with 0\n",
        "data = data.fillna(0)\n",
        "\n",
        "# One-hot encode string columns\n",
        "obj_cols = data.select_dtypes(include='object').columns\n",
        "data[obj_cols] = data[obj_cols].astype(str)\n",
        "encoder = OneHotEncoder()\n",
        "encoded_data = encoder.fit_transform(data[obj_cols])\n",
        "\n",
        "# Combine encoded data with remaining columns\n",
        "X_encoded = pd.DataFrame(encoded_data.toarray(), columns=encoder.get_feature_names_out(obj_cols))\n",
        "X = pd.concat([data.drop(columns=obj_cols), X_encoded], axis=1)\n",
        "\n",
        "# Define target variable\n",
        "Y = data[\"SaleCondition\"]\n",
        "\n",
        "# Split the data into training and test sets\n",
        "X_train, X_test, Y_train, Y_test = train_test_split(X, Y, test_size=0.2, random_state=42)\n",
        "\n",
        "# KNN\n",
        "knn = KNeighborsClassifier()\n",
        "knn.fit(X_train, Y_train)\n",
        "knn_pred = knn.predict(X_test)\n",
        "print(\"KNN Accuracy:\", accuracy_score(Y_test, knn_pred))\n",
        "\n",
        "# Decision Tree\n",
        "dt = DecisionTreeClassifier()\n",
        "dt.fit(X_train, Y_train)\n",
        "dt_pred = dt.predict(X_test)\n",
        "print(\"Decision Tree Accuracy:\", accuracy_score(Y_test, dt_pred))\n",
        "\n",
        "# Random Forest\n",
        "rf = RandomForestClassifier()\n",
        "rf.fit(X_train, Y_train)\n",
        "rf_pred = rf.predict(X_test)\n",
        "print(\"Random Forest Accuracy:\", accuracy_score(Y_test, rf_pred))\n"
      ],
      "metadata": {
        "colab": {
          "base_uri": "https://localhost:8080/"
        },
        "id": "yxJPGIGl7_5O",
        "outputId": "1e523324-3ea6-4e49-9053-6a17ccd0bb74"
      },
      "execution_count": 4,
      "outputs": [
        {
          "output_type": "stream",
          "name": "stdout",
          "text": [
            "KNN Accuracy: 0.8013698630136986\n",
            "Decision Tree Accuracy: 1.0\n",
            "Random Forest Accuracy: 0.9828767123287672\n"
          ]
        }
      ]
    }
  ]
}