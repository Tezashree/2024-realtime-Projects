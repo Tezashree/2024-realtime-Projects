{
  "nbformat": 4,
  "nbformat_minor": 0,
  "metadata": {
    "colab": {
      "provenance": [],
      "authorship_tag": "ABX9TyPGarMDa7ZZpewKIBPW/jWE",
      "include_colab_link": true
    },
    "kernelspec": {
      "name": "python3",
      "display_name": "Python 3"
    },
    "language_info": {
      "name": "python"
    }
  },
  "cells": [
    {
      "cell_type": "markdown",
      "metadata": {
        "id": "view-in-github",
        "colab_type": "text"
      },
      "source": [
        "<a href=\"https://colab.research.google.com/github/Tezashree/DataScienceBootcamp/blob/main/Projects/titanic_Train.ipynb\" target=\"_parent\"><img src=\"https://colab.research.google.com/assets/colab-badge.svg\" alt=\"Open In Colab\"/></a>"
      ]
    },
    {
      "cell_type": "code",
      "execution_count": 58,
      "metadata": {
        "colab": {
          "base_uri": "https://localhost:8080/"
        },
        "id": "0MmckN_GHTLm",
        "outputId": "74de1f44-6d11-49e3-8f70-f1e624dc09a8"
      },
      "outputs": [
        {
          "output_type": "stream",
          "name": "stdout",
          "text": [
            "   PassengerId  Survived  Pclass  \\\n",
            "0            1         0       3   \n",
            "1            2         1       1   \n",
            "2            3         1       3   \n",
            "3            4         1       1   \n",
            "4            5         0       3   \n",
            "\n",
            "                                                Name     Sex   Age  SibSp  \\\n",
            "0                            Braund, Mr. Owen Harris    male  22.0      1   \n",
            "1  Cumings, Mrs. John Bradley (Florence Briggs Th...  female  38.0      1   \n",
            "2                             Heikkinen, Miss. Laina  female  26.0      0   \n",
            "3       Futrelle, Mrs. Jacques Heath (Lily May Peel)  female  35.0      1   \n",
            "4                           Allen, Mr. William Henry    male  35.0      0   \n",
            "\n",
            "   Parch            Ticket     Fare Cabin Embarked  \n",
            "0      0         A/5 21171   7.2500   NaN        S  \n",
            "1      0          PC 17599  71.2833   C85        C  \n",
            "2      0  STON/O2. 3101282   7.9250   NaN        S  \n",
            "3      0            113803  53.1000  C123        S  \n",
            "4      0            373450   8.0500   NaN        S  \n"
          ]
        }
      ],
      "source": [
        "import pandas as pd\n",
        "df = pd.read_csv(\"titanic_Train.csv\")\n",
        "print(df.head())"
      ]
    },
    {
      "cell_type": "code",
      "source": [
        "# Count the number of males and females\n",
        "sex_counts = df['Sex'].value_counts()\n",
        "\n",
        "print(\"Number of males:\", sex_counts['male'])\n",
        "print(\"Number of females:\", sex_counts['female'])\n",
        "\n",
        "\n",
        "# Male and Female Survived\n",
        "survived_counts = df.groupby('Sex')['Survived'].sum()\n",
        "print(\"Number of males and females who survived:\")\n",
        "print(survived_counts)\n"
      ],
      "metadata": {
        "colab": {
          "base_uri": "https://localhost:8080/"
        },
        "id": "aq1j0YNmMS37",
        "outputId": "cda818ac-6b78-4496-e664-3d980323f24c"
      },
      "execution_count": 59,
      "outputs": [
        {
          "output_type": "stream",
          "name": "stdout",
          "text": [
            "Number of males: 577\n",
            "Number of females: 314\n",
            "Number of males and females who survived:\n",
            "Sex\n",
            "female    233\n",
            "male      109\n",
            "Name: Survived, dtype: int64\n"
          ]
        }
      ]
    },
    {
      "cell_type": "code",
      "source": [
        "print(df.columns)"
      ],
      "metadata": {
        "colab": {
          "base_uri": "https://localhost:8080/"
        },
        "id": "fyEdJW8qScUB",
        "outputId": "3f512005-d3cb-4deb-ace4-92c917fcd4b0"
      },
      "execution_count": 60,
      "outputs": [
        {
          "output_type": "stream",
          "name": "stdout",
          "text": [
            "Index(['PassengerId', 'Survived', 'Pclass', 'Name', 'Sex', 'Age', 'SibSp',\n",
            "       'Parch', 'Ticket', 'Fare', 'Cabin', 'Embarked'],\n",
            "      dtype='object')\n"
          ]
        }
      ]
    },
    {
      "cell_type": "code",
      "source": [
        "# Max,Min,Avg.Price\n",
        "\n",
        "class_stats = df.groupby('Pclass')['Fare'].agg(['max', 'min', 'mean'])\n",
        "\n",
        "print(class_stats)"
      ],
      "metadata": {
        "colab": {
          "base_uri": "https://localhost:8080/"
        },
        "id": "OzDm9Fc8QBge",
        "outputId": "51d0e4d1-21b0-431e-87de-de8b6b60190e"
      },
      "execution_count": 61,
      "outputs": [
        {
          "output_type": "stream",
          "name": "stdout",
          "text": [
            "             max  min       mean\n",
            "Pclass                          \n",
            "1       512.3292  0.0  84.154687\n",
            "2        73.5000  0.0  20.662183\n",
            "3        69.5500  0.0  13.675550\n"
          ]
        }
      ]
    },
    {
      "cell_type": "code",
      "source": [
        "# Age of survived passengers\n",
        "bins = [0, 14, 30, 150]\n",
        "labels = ['child', 'adult', 'old']\n",
        "df['AgeGroup'] = pd.cut(df['Age'], bins=bins, labels=labels, right=False)\n",
        "survivors_age = df[df['Survived'] == 1]['AgeGroup'].value_counts()\n",
        "print(survivors_age)"
      ],
      "metadata": {
        "colab": {
          "base_uri": "https://localhost:8080/"
        },
        "id": "IxGy3wW1S9dc",
        "outputId": "2ccbcde4-0708-4d3b-fcc0-fcfc96c599a2"
      },
      "execution_count": 62,
      "outputs": [
        {
          "output_type": "stream",
          "name": "stdout",
          "text": [
            "old      134\n",
            "adult    114\n",
            "child     42\n",
            "Name: AgeGroup, dtype: int64\n"
          ]
        }
      ]
    },
    {
      "cell_type": "code",
      "source": [
        "# People  starting their journey\n",
        "embark_counts = df['Embarked'].value_counts()\n",
        "gender_counts = df.groupby('Embarked')['Sex'].value_counts().unstack()\n",
        "\n",
        "print(\"Number of people embarking from each port:\")\n",
        "print(embark_counts)\n",
        "\n",
        "print(\"\\nNumber of males and females embarking from each port:\")\n",
        "print(gender_counts)"
      ],
      "metadata": {
        "colab": {
          "base_uri": "https://localhost:8080/"
        },
        "id": "Op8_xud0TkPW",
        "outputId": "c4db4e0b-6812-4d52-8d32-3a8314255dcc"
      },
      "execution_count": 63,
      "outputs": [
        {
          "output_type": "stream",
          "name": "stdout",
          "text": [
            "Number of people embarking from each port:\n",
            "S    644\n",
            "C    168\n",
            "Q     77\n",
            "Name: Embarked, dtype: int64\n",
            "\n",
            "Number of males and females embarking from each port:\n",
            "Sex       female  male\n",
            "Embarked              \n",
            "C             73    95\n",
            "Q             36    41\n",
            "S            203   441\n"
          ]
        }
      ]
    },
    {
      "cell_type": "code",
      "source": [
        "# Removing columns\n",
        "print(df.columns)\n",
        "remove_columns = [\"PassengerId\", \"Name\", \"Ticket\"]\n",
        "df = df.drop(remove_columns,axis=1)\n"
      ],
      "metadata": {
        "colab": {
          "base_uri": "https://localhost:8080/"
        },
        "id": "JjYvXzqzXc1l",
        "outputId": "efc857a6-cba0-48c9-f965-617583639892"
      },
      "execution_count": 64,
      "outputs": [
        {
          "output_type": "stream",
          "name": "stdout",
          "text": [
            "Index(['PassengerId', 'Survived', 'Pclass', 'Name', 'Sex', 'Age', 'SibSp',\n",
            "       'Parch', 'Ticket', 'Fare', 'Cabin', 'Embarked', 'AgeGroup'],\n",
            "      dtype='object')\n"
          ]
        }
      ]
    },
    {
      "cell_type": "code",
      "source": [
        "df.isna().sum()"
      ],
      "metadata": {
        "colab": {
          "base_uri": "https://localhost:8080/"
        },
        "id": "ICQbcMzsZs_r",
        "outputId": "2c7f5d72-37ca-4220-fa15-014b790f0b78"
      },
      "execution_count": 65,
      "outputs": [
        {
          "output_type": "execute_result",
          "data": {
            "text/plain": [
              "Survived      0\n",
              "Pclass        0\n",
              "Sex           0\n",
              "Age         177\n",
              "SibSp         0\n",
              "Parch         0\n",
              "Fare          0\n",
              "Cabin       687\n",
              "Embarked      2\n",
              "AgeGroup    177\n",
              "dtype: int64"
            ]
          },
          "metadata": {},
          "execution_count": 65
        }
      ]
    },
    {
      "cell_type": "code",
      "source": [
        "print(df.shape)"
      ],
      "metadata": {
        "colab": {
          "base_uri": "https://localhost:8080/"
        },
        "id": "Fr15eYxvZ2bX",
        "outputId": "7aece7d9-3615-4151-8fa6-63e14ec5c53c"
      },
      "execution_count": 66,
      "outputs": [
        {
          "output_type": "stream",
          "name": "stdout",
          "text": [
            "(891, 10)\n"
          ]
        }
      ]
    },
    {
      "cell_type": "code",
      "source": [
        "df = df.drop(columns=[\"Cabin\", \"AgeGroup\"])\n"
      ],
      "metadata": {
        "id": "BZ6QwMXAaIVw"
      },
      "execution_count": 67,
      "outputs": []
    },
    {
      "cell_type": "code",
      "source": [
        "df = df.dropna(subset=[\"Embarked\"])"
      ],
      "metadata": {
        "id": "snP8ZfAqa43L"
      },
      "execution_count": 68,
      "outputs": []
    },
    {
      "cell_type": "code",
      "source": [
        "#fill Nan value in the  age column with mean\n",
        "mean_age = df[\"Age\"].mean()\n",
        "df['Age'] = df['Age'].fillna(mean_age)\n",
        "print(df)"
      ],
      "metadata": {
        "colab": {
          "base_uri": "https://localhost:8080/"
        },
        "id": "QXeNHPHZcJcV",
        "outputId": "32b9262a-2a4b-4bc8-cdd0-0839c5c6940c"
      },
      "execution_count": 69,
      "outputs": [
        {
          "output_type": "stream",
          "name": "stdout",
          "text": [
            "     Survived  Pclass     Sex        Age  SibSp  Parch     Fare Embarked\n",
            "0           0       3    male  22.000000      1      0   7.2500        S\n",
            "1           1       1  female  38.000000      1      0  71.2833        C\n",
            "2           1       3  female  26.000000      0      0   7.9250        S\n",
            "3           1       1  female  35.000000      1      0  53.1000        S\n",
            "4           0       3    male  35.000000      0      0   8.0500        S\n",
            "..        ...     ...     ...        ...    ...    ...      ...      ...\n",
            "886         0       2    male  27.000000      0      0  13.0000        S\n",
            "887         1       1  female  19.000000      0      0  30.0000        S\n",
            "888         0       3  female  29.642093      1      2  23.4500        S\n",
            "889         1       1    male  26.000000      0      0  30.0000        C\n",
            "890         0       3    male  32.000000      0      0   7.7500        Q\n",
            "\n",
            "[889 rows x 8 columns]\n"
          ]
        }
      ]
    },
    {
      "cell_type": "code",
      "source": [
        "#one-hot-encoding for categorical features\n",
        "from sklearn.preprocessing import OneHotEncoder, MinMaxScaler\n",
        "categorical_features = [\"Sex\", \"Embarked\"]\n",
        "df_encoded = pd.get_dummies(df, columns=categorical_features)\n",
        "\n",
        "#one-hot-encoding for Survived label\n",
        "label_encoder = OneHotEncoder()\n",
        "labels_encoded = label_encoder.fit_transform(df[['Survived']])"
      ],
      "metadata": {
        "id": "2v48hn4UdTYm"
      },
      "execution_count": 70,
      "outputs": []
    },
    {
      "cell_type": "code",
      "source": [
        "#perform min,max Scalaing for Numerical columns\n",
        "scaler = MinMaxScaler()\n",
        "numerical_columns = ['Age', 'Fare']\n",
        "df_encoded[numerical_columns] = scaler.fit_transform(df_encoded[numerical_columns])"
      ],
      "metadata": {
        "id": "gvgt21hSfIqq"
      },
      "execution_count": 71,
      "outputs": []
    },
    {
      "cell_type": "code",
      "source": [
        "#StandardScalar\n",
        "from sklearn.preprocessing import OneHotEncoder, StandardScaler\n",
        "scaler = StandardScaler()\n",
        "numerical_columns = ['Age', 'Fare']\n",
        "df_encoded[numerical_columns] = scaler.fit_transform(df_encoded[numerical_columns])"
      ],
      "metadata": {
        "id": "vnoWyH12jfJC"
      },
      "execution_count": 72,
      "outputs": []
    },
    {
      "cell_type": "code",
      "source": [
        "#Train_TestSplit\n",
        "from sklearn.model_selection import train_test_split\n",
        "X_train, X_test, y_train, y_test = train_test_split(df_encoded.drop('Survived', axis=1), labels_encoded.toarray(), test_size=0.2, random_state=42)\n"
      ],
      "metadata": {
        "id": "qoV41qt9fWsx"
      },
      "execution_count": 73,
      "outputs": []
    },
    {
      "cell_type": "code",
      "source": [],
      "metadata": {
        "id": "fvLmQ5OShjpb"
      },
      "execution_count": 73,
      "outputs": []
    },
    {
      "cell_type": "code",
      "source": [
        "# K-Nearest Neighbors\n",
        "from sklearn.neighbors import KNeighborsClassifier\n",
        "knn_classifier= KNeighborsClassifier()\n",
        "knn_classifier.fit(X_train, y_train)\n",
        "knn_score = knn_classifier.score(X_test,y_test)\n",
        "print(knn_score)"
      ],
      "metadata": {
        "colab": {
          "base_uri": "https://localhost:8080/"
        },
        "id": "2iqac9nrfwWp",
        "outputId": "bebe60d4-6b53-4354-ec30-d21d8d8a1fca"
      },
      "execution_count": 74,
      "outputs": [
        {
          "output_type": "stream",
          "name": "stdout",
          "text": [
            "0.7921348314606742\n"
          ]
        }
      ]
    },
    {
      "cell_type": "code",
      "source": [
        "#RandomForest\n",
        "from sklearn.ensemble import RandomForestClassifier\n",
        "randomforest_classifier = RandomForestClassifier()\n",
        "randomforest_classifier.fit(X_train, y_train)\n",
        "randomforest_score = randomforest_classifier.score(X_test, y_test)\n",
        "print(randomforest_score)"
      ],
      "metadata": {
        "colab": {
          "base_uri": "https://localhost:8080/"
        },
        "id": "WVT7SvK-h9EW",
        "outputId": "bb0c86d0-1c92-4b3f-ceb4-a3b7b2745f9c"
      },
      "execution_count": 75,
      "outputs": [
        {
          "output_type": "stream",
          "name": "stdout",
          "text": [
            "0.7808988764044944\n"
          ]
        }
      ]
    },
    {
      "cell_type": "code",
      "source": [
        "#Decision Tree\n",
        "from sklearn.tree import DecisionTreeClassifier\n",
        "decisiontree_classifier = DecisionTreeClassifier()\n",
        "decisiontree_classifier.fit(X_train, y_train)\n",
        "decisiontree_score = decisiontree_classifier.score(X_test, y_test)\n",
        "print(decisiontree_score)"
      ],
      "metadata": {
        "colab": {
          "base_uri": "https://localhost:8080/"
        },
        "id": "07isnx8Fic1Z",
        "outputId": "b6ab225a-e845-42cd-dc09-d279c4808013"
      },
      "execution_count": 76,
      "outputs": [
        {
          "output_type": "stream",
          "name": "stdout",
          "text": [
            "0.7247191011235955\n"
          ]
        }
      ]
    }
  ]
}