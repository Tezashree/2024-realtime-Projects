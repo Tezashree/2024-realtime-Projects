{
  "nbformat": 4,
  "nbformat_minor": 0,
  "metadata": {
    "colab": {
      "provenance": [],
      "authorship_tag": "ABX9TyMVcKFxcM62E1Sp90loMDdO",
      "include_colab_link": true
    },
    "kernelspec": {
      "name": "python3",
      "display_name": "Python 3"
    },
    "language_info": {
      "name": "python"
    }
  },
  "cells": [
    {
      "cell_type": "markdown",
      "metadata": {
        "id": "view-in-github",
        "colab_type": "text"
      },
      "source": [
        "<a href=\"https://colab.research.google.com/github/Tezashree/DataScienceBootcamp/blob/main/classNotes/Untitled2.ipynb\" target=\"_parent\"><img src=\"https://colab.research.google.com/assets/colab-badge.svg\" alt=\"Open In Colab\"/></a>"
      ]
    },
    {
      "cell_type": "markdown",
      "source": [
        "1 Implement bubble sort with list in python DO NOT USE SORT METHOD"
      ],
      "metadata": {
        "id": "uaKp5zHBs8bU"
      }
    },
    {
      "cell_type": "code",
      "execution_count": 3,
      "metadata": {
        "colab": {
          "base_uri": "https://localhost:8080/"
        },
        "id": "jXYfGwawsrCU",
        "outputId": "3e62fb85-2f8e-49d9-9be6-61afa729f3d0"
      },
      "outputs": [
        {
          "output_type": "stream",
          "name": "stdout",
          "text": [
            "[3, 4, 6, 7, 7, 9, 11, 23, 50, 70]\n"
          ]
        }
      ],
      "source": [
        "def bubble_sort(arr):\n",
        "  n = len(arr)\n",
        "  for i in range(n):\n",
        "    for j in range(0, n-i-1):\n",
        "      if arr[j] > arr[j+1]:\n",
        "        arr[j], arr[j+1] = arr[j+1], arr[j]\n",
        "\n",
        "  return arr\n",
        "arr = [6,4,7,3,9,11,7,23,50,70]\n",
        "sorted_arr = bubble_sort(arr)\n",
        "print(sorted_arr)"
      ]
    },
    {
      "cell_type": "markdown",
      "source": [
        "Longest Substring Without Repeating Characters: Given a string s, find the length of the longest substring without repeating characters."
      ],
      "metadata": {
        "id": "ln4hJZH8s7Wa"
      }
    },
    {
      "cell_type": "code",
      "source": [
        "def longest_substring(substr):\n",
        "    if not substr:\n",
        "        return 0\n",
        "\n",
        "    max_length = 1\n",
        "    start = 0\n",
        "\n",
        "    for i in range(1, len(substr)):\n",
        "        if substr[i] in substr[start:i]:\n",
        "            start = substr[start:i].index(substr[i]) + start + 1\n",
        "        else:\n",
        "            max_length = max(max_length, i - start + 1)\n",
        "    return max_length\n",
        "\n",
        "\n",
        "substr = \"himynameisaasthapokharel\"\n",
        "print(longest_substring(substr))\n"
      ],
      "metadata": {
        "colab": {
          "base_uri": "https://localhost:8080/"
        },
        "id": "SxCzfMkuulbj",
        "outputId": "63fa835e-0678-4104-c9e4-5ee0a9ec525b"
      },
      "execution_count": 9,
      "outputs": [
        {
          "output_type": "stream",
          "name": "stdout",
          "text": [
            "8\n"
          ]
        }
      ]
    },
    {
      "cell_type": "markdown",
      "source": [
        "given a string of numbers example \"19023178\" find two numbers with max sum and minimum sum"
      ],
      "metadata": {
        "id": "3FcLlbj2yUcJ"
      }
    },
    {
      "cell_type": "code",
      "source": [
        "numbers_str = \"19023178\"\n",
        "numbers_list = [int(num)for num in numbers_str]\n",
        "min_num1, min_num2 = float('inf'), float('inf')\n",
        "max_num1, max_num2 = float('-inf'), float(\"-inf\")\n",
        "\n",
        "for num in numbers_list:\n",
        "  if num < min_num1:\n",
        "      min_num2 = min_num1\n",
        "      min_num1 = num\n",
        "  elif num < min_num2:\n",
        "       min_num2 = num\n",
        "\n",
        "  if num > max_num1:\n",
        "     max_num2 = max_num1\n",
        "     max_num1 = num\n",
        "  elif num > max_num2:\n",
        "      max_num2 = num\n",
        "print(f\"Two numbers with minimum sum: {min_num1}, {min_num2}\")\n",
        "print(f\"Two numbers with maximum sum: {max_num1}, {max_num2}\")"
      ],
      "metadata": {
        "colab": {
          "base_uri": "https://localhost:8080/"
        },
        "id": "_padKIOnyVfC",
        "outputId": "efe01088-b855-456b-959e-a0a341026984"
      },
      "execution_count": 8,
      "outputs": [
        {
          "output_type": "stream",
          "name": "stdout",
          "text": [
            "Two numbers with minimum sum: 0, 1\n",
            "Two numbers with maximum sum: 9, 8\n"
          ]
        }
      ]
    }
  ]
}