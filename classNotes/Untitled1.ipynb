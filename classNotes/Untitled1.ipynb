{
  "nbformat": 4,
  "nbformat_minor": 0,
  "metadata": {
    "colab": {
      "provenance": [],
      "authorship_tag": "ABX9TyPDgHBNub50Td/txowgiEfM",
      "include_colab_link": true
    },
    "kernelspec": {
      "name": "python3",
      "display_name": "Python 3"
    },
    "language_info": {
      "name": "python"
    }
  },
  "cells": [
    {
      "cell_type": "markdown",
      "metadata": {
        "id": "view-in-github",
        "colab_type": "text"
      },
      "source": [
        "<a href=\"https://colab.research.google.com/github/Tezashree/DataScienceBootcamp/blob/main/classNotes/Untitled1.ipynb\" target=\"_parent\"><img src=\"https://colab.research.google.com/assets/colab-badge.svg\" alt=\"Open In Colab\"/></a>"
      ]
    },
    {
      "cell_type": "markdown",
      "source": [
        "Guessing Game:\n",
        "\n",
        "Write a program that generates a random number between 1 and 100. Ask the user to guess the number. For each guess, provide a hint whether the guess is too high or too low. The game should continue until the user correctly guesses the number. Use a while loop for this"
      ],
      "metadata": {
        "id": "fXfzZ0qkn3QA"
      }
    },
    {
      "cell_type": "code",
      "execution_count": 5,
      "metadata": {
        "colab": {
          "base_uri": "https://localhost:8080/"
        },
        "id": "IsyoTWDQnP4j",
        "outputId": "753945d9-e8fb-4c5c-c08e-f3c7fae7dee9"
      },
      "outputs": [
        {
          "output_type": "stream",
          "name": "stdout",
          "text": [
            "please choose a number55\n",
            "Number to high. Guess again!!\n",
            "please choose a number10\n",
            "Number too low. Guess again!!\n",
            "please choose a number102\n",
            "Number to high. Guess again!!\n",
            "please choose a number19\n",
            "Number too low. Guess again!!\n",
            "please choose a number50\n",
            "Guessed Correctly\n"
          ]
        }
      ],
      "source": [
        "import random\n",
        "\n",
        "a = list(range(1,101))\n",
        "val=random.choice(a)\n",
        "guess=False\n",
        "\n",
        "while not guess:\n",
        "  user_choice=int(input(\"please choose a number\"))\n",
        "  if user_choice>val:\n",
        "    print(\"Number to high. Guess again!!\")\n",
        "  elif user_choice<val:\n",
        "    print(\"Number too low. Guess again!!\")\n",
        "  else:\n",
        "    print(\"Guessed Correctly\")\n",
        "    guess = True\n",
        ""
      ]
    }
  ]
}