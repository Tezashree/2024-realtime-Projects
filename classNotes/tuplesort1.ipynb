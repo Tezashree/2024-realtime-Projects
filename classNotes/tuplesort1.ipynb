{
  "nbformat": 4,
  "nbformat_minor": 0,
  "metadata": {
    "colab": {
      "provenance": [],
      "authorship_tag": "ABX9TyMxLmOMo7lvnlJ6kPaEFNp2",
      "include_colab_link": true
    },
    "kernelspec": {
      "name": "python3",
      "display_name": "Python 3"
    },
    "language_info": {
      "name": "python"
    }
  },
  "cells": [
    {
      "cell_type": "markdown",
      "metadata": {
        "id": "view-in-github",
        "colab_type": "text"
      },
      "source": [
        "<a href=\"https://colab.research.google.com/github/Tezashree/DataScienceBootcamp/blob/main/classNotes/tuplesort1.ipynb\" target=\"_parent\"><img src=\"https://colab.research.google.com/assets/colab-badge.svg\" alt=\"Open In Colab\"/></a>"
      ]
    },
    {
      "cell_type": "markdown",
      "source": [
        "Write a Python program to get a list, sorted in increasing order by the last element in each tuple from a given list of non-empty tuples.\n",
        "\n",
        "Sample List : [(2, 5), (1, 2), (4, 4), (2, 3), (2, 1)]"
      ],
      "metadata": {
        "id": "mGhlstknlMjl"
      }
    },
    {
      "cell_type": "code",
      "execution_count": 1,
      "metadata": {
        "colab": {
          "base_uri": "https://localhost:8080/"
        },
        "id": "FtYJTL_Ckx2_",
        "outputId": "55c4cdde-208e-4409-d62f-3dbd8250ca79"
      },
      "outputs": [
        {
          "output_type": "stream",
          "name": "stdout",
          "text": [
            "[(2, 1), (1, 2), (2, 3), (4, 4), (2, 5)]\n"
          ]
        }
      ],
      "source": [
        "tuple_list = [(2, 5), (1, 2), (4, 4), (2, 3), (2, 1)]\n",
        "sorted_list = sorted(tuple_list, key=lambda x:x[1])\n",
        "print(sorted_list)"
      ]
    }
  ]
}